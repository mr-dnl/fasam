{
  "nbformat": 4,
  "nbformat_minor": 0,
  "metadata": {
    "colab": {
      "name": "fasam-analise-de-dados-com-python-e-spark.ipynb",
      "provenance": [],
      "collapsed_sections": [],
      "authorship_tag": "ABX9TyOrfWs0AzOjukcRmIgF9z8i"
    },
    "kernelspec": {
      "name": "python3",
      "display_name": "Python 3"
    }
  },
  "cells": [
    {
      "cell_type": "markdown",
      "metadata": {
        "id": "V6Bq-AnXZnpt",
        "colab_type": "text"
      },
      "source": [
        "# Análise de Dados com Python e Spark\n",
        "\n",
        "<p>\n",
        "Dados dois conjuntos de dados que possuem todas as requisições HTTP para o servidor da NASA Kennedy Space Center WWW na Flórida para um período específico, você fará uma análise de dados a seguir. Os conjuntos de dados representam logs que estão em arquivos ASCII com uma linha por requisição com as seguintes colunas:\n",
        "\n",
        "* Host fazendo a requisição. Um hostname quando possível, caso contrário o endereço de internet se o nome não puder ser identificado. \n",
        "* Timestamp no formato \"DIA/MÊS/ANO:HH:MM:SS TIMEZONE\"\n",
        "* Requisição (entre aspas)\n",
        "* Código do retorno HTTP\n",
        "* Total de bytes retornados \n",
        "\n",
        "Download dos datasets:\n",
        "\n",
        "- Jul 01 to Jul 31, ASCII format, 20.7 MB gzip compressed,205.2 MB: ftp://ita.ee.lbl.gov/traces/NASA_access_log_Jul95.gz\n",
        "\n",
        "- Aug 04 to Aug 31, ASCII format, 21.8 MB gzip compressed, 167.8 MB: ftp://ita.ee.lbl.gov/traces/NASA_access_log_Aug95.gz\n",
        "\n",
        "> Use Python com PySpark para descobrir as seguintes informações:<br />\n",
        "  * Número de hosts únicos.\n",
        "  * O total de erros 404.\n",
        "  * Os 5 URLs que mais causaram erro 404.\n",
        "  * Quantidade de erros 404 por dia.\n",
        "  * O total de bytes retornados.\n",
        " </p>\n"
      ]
    },
    {
      "cell_type": "code",
      "metadata": {
        "id": "K16zTRIQZXw2",
        "colab_type": "code",
        "colab": {}
      },
      "source": [
        "# instalar as dependências\n",
        "!apt-get install openjdk-8-jdk-headless -qq > /dev/null\n",
        "!wget -q https://archive.apache.org/dist/spark/spark-2.4.4/spark-2.4.4-bin-hadoop2.7.tgz\n",
        "!tar xf spark-2.4.4-bin-hadoop2.7.tgz\n",
        "!pip install -q findspark"
      ],
      "execution_count": 0,
      "outputs": []
    },
    {
      "cell_type": "code",
      "metadata": {
        "id": "XDnGI5eWbGye",
        "colab_type": "code",
        "colab": {}
      },
      "source": [
        "# configurar as variáveis de ambiente\n",
        "import os\n",
        "os.environ[\"JAVA_HOME\"] = \"/usr/lib/jvm/java-8-openjdk-amd64\"\n",
        "os.environ[\"SPARK_HOME\"] = \"/content/spark-2.4.4-bin-hadoop2.7\"\n",
        "\n",
        "# tornar o pyspark \"importável\"\n",
        "import findspark\n",
        "findspark.init('spark-2.4.4-bin-hadoop2.7')"
      ],
      "execution_count": 0,
      "outputs": []
    },
    {
      "cell_type": "code",
      "metadata": {
        "id": "qRKI9N-ObG3f",
        "colab_type": "code",
        "colab": {}
      },
      "source": [
        "# importação \n",
        "from pyspark.sql import SparkSession\n",
        "from pyspark.sql import Row\n",
        "from operator import add\n",
        "import numpy as np"
      ],
      "execution_count": 0,
      "outputs": []
    },
    {
      "cell_type": "code",
      "metadata": {
        "id": "EzftK2qKbMxN",
        "colab_type": "code",
        "colab": {}
      },
      "source": [
        "spark = SparkSession.builder.master(\"local[*]\").getOrCreate()\n",
        "sc = spark.sparkContext"
      ],
      "execution_count": 0,
      "outputs": []
    },
    {
      "cell_type": "code",
      "metadata": {
        "id": "TVobQ3eZbyCS",
        "colab_type": "code",
        "outputId": "fc6f1ca0-902e-495f-e2e2-80feb3593134",
        "colab": {
          "base_uri": "https://localhost:8080/",
          "height": 119
        }
      },
      "source": [
        "# Clone do projeto\n",
        "!git clone https://github.com/leonardoamorim/aulapython.git"
      ],
      "execution_count": 5,
      "outputs": [
        {
          "output_type": "stream",
          "text": [
            "Cloning into 'aulapython'...\n",
            "remote: Enumerating objects: 28, done.\u001b[K\n",
            "remote: Counting objects: 100% (28/28), done.\u001b[K\n",
            "remote: Compressing objects: 100% (28/28), done.\u001b[K\n",
            "remote: Total 28 (delta 7), reused 0 (delta 0), pack-reused 0\u001b[K\n",
            "Unpacking objects: 100% (28/28), done.\n"
          ],
          "name": "stdout"
        }
      ]
    },
    {
      "cell_type": "code",
      "metadata": {
        "id": "2ClPeHm3b0p_",
        "colab_type": "code",
        "colab": {}
      },
      "source": [
        "# Extracao dos arquivos\n",
        "! gunzip aulapython/NASA_access_log_Jul95.gz\n",
        "! gunzip aulapython/NASA_access_log_Aug95.gz"
      ],
      "execution_count": 0,
      "outputs": []
    },
    {
      "cell_type": "code",
      "metadata": {
        "id": "_J_3nxWEb7jL",
        "colab_type": "code",
        "colab": {}
      },
      "source": [
        "# Leitura dos dados de Julho e Agosto\n",
        "julho = sc.textFile('aulapython/NASA_access_log_Jul95')\n",
        "\n",
        "agosto = sc.textFile('aulapython/NASA_access_log_Aug95')"
      ],
      "execution_count": 0,
      "outputs": []
    },
    {
      "cell_type": "code",
      "metadata": {
        "id": "iDrpSGoKEnzU",
        "colab_type": "code",
        "colab": {}
      },
      "source": [
        "# Criação das lista para cada mês\n",
        "lista_julho = julho.map(lambda line: line.split()).collect()\n",
        "lista_agosto = agosto.map(lambda line: line.split()).collect()"
      ],
      "execution_count": 0,
      "outputs": []
    },
    {
      "cell_type": "markdown",
      "metadata": {
        "id": "JAv1pwN0eywk",
        "colab_type": "text"
      },
      "source": [
        "# Respostas :"
      ]
    },
    {
      "cell_type": "markdown",
      "metadata": {
        "id": "w62oOdlQH1nG",
        "colab_type": "text"
      },
      "source": [
        "### Número de hosts distintos no mês de Julho"
      ]
    },
    {
      "cell_type": "code",
      "metadata": {
        "id": "OgmKD_0SeN5D",
        "colab_type": "code",
        "outputId": "bf2af164-97d3-4507-9878-f62aa2cd4168",
        "colab": {
          "base_uri": "https://localhost:8080/",
          "height": 68
        }
      },
      "source": [
        "# Total distinto\n",
        "contagem_julho = julho.map(lambda line: line.split(' ')[0]).distinct().count()\n",
        "contagem_agosto = agosto.map(lambda line: line.split(' ')[0]).distinct().count()\n",
        "\n",
        "# Monta a mensagem \n",
        "txt = 'Os valor de hosts distintos para os meses são:\\n Julho = {0} \\n Agosto = {1}'\n",
        "\n",
        "# Retorno a mensagem e nem os valores\n",
        "print(txt.format(contagem_julho, contagem_agosto))"
      ],
      "execution_count": 9,
      "outputs": [
        {
          "output_type": "stream",
          "text": [
            "Os valor de hosts distintos para os meses são:\n",
            " Julho = 81983 \n",
            " Agosto = 75060\n"
          ],
          "name": "stdout"
        }
      ]
    },
    {
      "cell_type": "markdown",
      "metadata": {
        "id": "qrwETviDLC6d",
        "colab_type": "text"
      },
      "source": [
        "### O total de erros 404"
      ]
    },
    {
      "cell_type": "code",
      "metadata": {
        "id": "VKEt3U8RTDXu",
        "colab_type": "code",
        "colab": {}
      },
      "source": [
        "# Funcao para verificar se em uma linha existe um codigohttp igual a 404\n",
        "def codigo404(linha):\n",
        "    try:\n",
        "      codigohttp = linha.split(' ')[-2]\n",
        "      if codigohttp == '404':\n",
        "        return True\n",
        "    except:\n",
        "        pass\n",
        "    return False"
      ],
      "execution_count": 0,
      "outputs": []
    },
    {
      "cell_type": "code",
      "metadata": {
        "id": "ILSkKgiSeqTA",
        "colab_type": "code",
        "outputId": "127dd6b4-49a2-42f1-80d0-a6f08c6b21a3",
        "colab": {
          "base_uri": "https://localhost:8080/",
          "height": 68
        }
      },
      "source": [
        "# O total de erros 404.\n",
        "erros404_julho = julho.filter(codigo404).cache()\n",
        "erros404_agosto = agosto.filter(codigo404).cache()\n",
        "\n",
        "# Monta a mensagem \n",
        "txt = 'Erros 404 em:\\n Julho: {0}\\n Agosto: {1}'\n",
        "\n",
        "# Retorno dos valores\n",
        "print(txt.format(erros404_julho.count(), erros404_agosto.count()))"
      ],
      "execution_count": 11,
      "outputs": [
        {
          "output_type": "stream",
          "text": [
            "Erros 404 em:\n",
            " Julho: 10845\n",
            " Agosto: 10056\n"
          ],
          "name": "stdout"
        }
      ]
    },
    {
      "cell_type": "markdown",
      "metadata": {
        "id": "Xlu8HOw8LFuU",
        "colab_type": "text"
      },
      "source": [
        "### Os 5 URLs que mais causaram erro 404."
      ]
    },
    {
      "cell_type": "code",
      "metadata": {
        "id": "yLFWhMy1oEeq",
        "colab_type": "code",
        "colab": {}
      },
      "source": [
        "# Funcao para retornar os top5 urls com mais erros 404\n",
        "def top5_hosts404(rdd):\n",
        "    hosts = rdd.map(lambda linha: linha.split('\"')[1].split(' ')[1])\n",
        "    counts = hosts.map(lambda hosts: (hosts, 1)).reduceByKey(add)\n",
        "    top5 = counts.sortBy(lambda par: -par[1]).take(5)\n",
        "    \n",
        "    print('\\nTop 5 urls:')\n",
        "    for hosts, count in top5:\n",
        "        print(hosts, count)\n",
        "        \n",
        "    return top5\n",
        "    "
      ],
      "execution_count": 0,
      "outputs": []
    },
    {
      "cell_type": "markdown",
      "metadata": {
        "id": "EkPlZ_dVKtMo",
        "colab_type": "text"
      },
      "source": [
        "### Quantidade de erros 404 por dia"
      ]
    },
    {
      "cell_type": "code",
      "metadata": {
        "id": "DIz6TE4GVFs6",
        "colab_type": "code",
        "colab": {}
      },
      "source": [
        "# Função para quantidade de erros 404 por dia\n",
        "def contador_lista_404(lista):\n",
        "\n",
        "  # cria lista\n",
        "  lst = []\n",
        "\n",
        "  # percorre a lista e grava somente a data\n",
        "  for i in range(len(lista)):\n",
        "    try:\n",
        "      if '404' in lista[i]:\n",
        "        lst.append(lista[i][3].split('[')[1].split(':')[0])\n",
        "    except:\n",
        "      pass\n",
        "\n",
        "  # Monta tupla com o total para cada valor\n",
        "  (valores, totais) = np.unique(lst, return_counts=True)\n",
        "  retorno = np.asarray((valores, totais)).T\n",
        "\n",
        "  return retorno"
      ],
      "execution_count": 0,
      "outputs": []
    },
    {
      "cell_type": "code",
      "metadata": {
        "id": "J8eZBiRqWsyz",
        "colab_type": "code",
        "colab": {
          "base_uri": "https://localhost:8080/",
          "height": 493
        },
        "outputId": "d2ec22be-d6d5-471b-cadd-b5c3490e7340"
      },
      "source": [
        "# Retorno dos valores para o mês de julho\n",
        "print(contador_lista_404(lista_julho))"
      ],
      "execution_count": 190,
      "outputs": [
        {
          "output_type": "stream",
          "text": [
            "[['01/Jul/1995' '316']\n",
            " ['02/Jul/1995' '291']\n",
            " ['03/Jul/1995' '474']\n",
            " ['04/Jul/1995' '359']\n",
            " ['05/Jul/1995' '497']\n",
            " ['06/Jul/1995' '641']\n",
            " ['07/Jul/1995' '570']\n",
            " ['08/Jul/1995' '302']\n",
            " ['09/Jul/1995' '349']\n",
            " ['10/Jul/1995' '398']\n",
            " ['11/Jul/1995' '471']\n",
            " ['12/Jul/1995' '471']\n",
            " ['13/Jul/1995' '532']\n",
            " ['14/Jul/1995' '413']\n",
            " ['15/Jul/1995' '254']\n",
            " ['16/Jul/1995' '257']\n",
            " ['17/Jul/1995' '406']\n",
            " ['18/Jul/1995' '465']\n",
            " ['19/Jul/1995' '639']\n",
            " ['20/Jul/1995' '428']\n",
            " ['21/Jul/1995' '334']\n",
            " ['22/Jul/1995' '192']\n",
            " ['23/Jul/1995' '233']\n",
            " ['24/Jul/1995' '328']\n",
            " ['25/Jul/1995' '462']\n",
            " ['26/Jul/1995' '336']\n",
            " ['27/Jul/1995' '336']\n",
            " ['28/Jul/1995' '94']]\n"
          ],
          "name": "stdout"
        }
      ]
    },
    {
      "cell_type": "code",
      "metadata": {
        "id": "VNUe8_S8XkBE",
        "colab_type": "code",
        "colab": {
          "base_uri": "https://localhost:8080/",
          "height": 527
        },
        "outputId": "f297c2d9-1cd5-45a9-dbc9-fbc786085bd5"
      },
      "source": [
        "# Retorno dos valores para o mês de agosto\n",
        "print(contador_lista_404(lista_agosto))"
      ],
      "execution_count": 194,
      "outputs": [
        {
          "output_type": "stream",
          "text": [
            "[['01/Aug/1995' '243']\n",
            " ['03/Aug/1995' '304']\n",
            " ['04/Aug/1995' '346']\n",
            " ['05/Aug/1995' '236']\n",
            " ['06/Aug/1995' '373']\n",
            " ['07/Aug/1995' '537']\n",
            " ['08/Aug/1995' '391']\n",
            " ['09/Aug/1995' '279']\n",
            " ['10/Aug/1995' '315']\n",
            " ['11/Aug/1995' '263']\n",
            " ['12/Aug/1995' '196']\n",
            " ['13/Aug/1995' '217']\n",
            " ['14/Aug/1995' '287']\n",
            " ['15/Aug/1995' '327']\n",
            " ['16/Aug/1995' '259']\n",
            " ['17/Aug/1995' '271']\n",
            " ['18/Aug/1995' '256']\n",
            " ['19/Aug/1995' '209']\n",
            " ['20/Aug/1995' '312']\n",
            " ['21/Aug/1995' '305']\n",
            " ['22/Aug/1995' '288']\n",
            " ['23/Aug/1995' '345']\n",
            " ['24/Aug/1995' '420']\n",
            " ['25/Aug/1995' '416']\n",
            " ['26/Aug/1995' '366']\n",
            " ['27/Aug/1995' '370']\n",
            " ['28/Aug/1995' '410']\n",
            " ['29/Aug/1995' '420']\n",
            " ['30/Aug/1995' '571']\n",
            " ['31/Aug/1995' '526']]\n"
          ],
          "name": "stdout"
        }
      ]
    },
    {
      "cell_type": "markdown",
      "metadata": {
        "id": "_2YZ-yHnKT-o",
        "colab_type": "text"
      },
      "source": [
        "### Quantidade total de bytes"
      ]
    },
    {
      "cell_type": "code",
      "metadata": {
        "id": "STKb78lkFQou",
        "colab_type": "code",
        "colab": {}
      },
      "source": [
        "# Função para soma da última coluna da lista\n",
        "def sumByte(lista):\n",
        "\n",
        "  # Criação da Lista vazia e variável\n",
        "  lst = []\n",
        "  soma = 0\n",
        "\n",
        "  # Percorre a lista pelo índice e retorno o valor do último elemento da lista\n",
        "  for i in range(len(lista)):\n",
        "    try:\n",
        "      num = int(lista[i][-1])\n",
        "      soma += num\n",
        "    except:\n",
        "      pass\n",
        "\n",
        "  return soma"
      ],
      "execution_count": 0,
      "outputs": []
    },
    {
      "cell_type": "code",
      "metadata": {
        "id": "1dsEEeSKF2lh",
        "colab_type": "code",
        "outputId": "3a973611-4b1d-49cc-eeb2-757d3fc368ec",
        "colab": {
          "base_uri": "https://localhost:8080/",
          "height": 68
        }
      },
      "source": [
        "# Quantidade de bytes total em Julho: 38695973491\n",
        "# Quantidade de bytes total em Agosto: 26828341424 \n",
        "txt = 'Quantidade de bytes para os meses:\\n Julho: {0} \\n Agosto: {1}'\n",
        "\n",
        "print(txt.format(sumByte(lista_julho), sumByte(lista_agosto)))"
      ],
      "execution_count": 13,
      "outputs": [
        {
          "output_type": "stream",
          "text": [
            "Quantidade de bytes para os meses:\n",
            " Julho: 38695973491 \n",
            " Agosto: 26828341424\n"
          ],
          "name": "stdout"
        }
      ]
    }
  ]
}
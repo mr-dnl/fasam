{
  "nbformat": 4,
  "nbformat_minor": 0,
  "metadata": {
    "colab": {
      "name": "wordcount-with-pyspark.ipynb",
      "provenance": []
    },
    "kernelspec": {
      "name": "python3",
      "display_name": "Python 3"
    }
  },
  "cells": [
    {
      "cell_type": "code",
      "metadata": {
        "id": "PjLxQKzXcN-8",
        "colab_type": "code",
        "colab": {}
      },
      "source": [
        "# instalar as dependências\n",
        "!apt-get install openjdk-8-jdk-headless -qq > /dev/null\n",
        "!wget -q https://archive.apache.org/dist/spark/spark-2.4.4/spark-2.4.4-bin-hadoop2.7.tgz\n",
        "!tar xf spark-2.4.4-bin-hadoop2.7.tgz\n",
        "!pip install -q findspark"
      ],
      "execution_count": 0,
      "outputs": []
    },
    {
      "cell_type": "code",
      "metadata": {
        "id": "unRLnk6wZjVm",
        "colab_type": "code",
        "colab": {}
      },
      "source": [
        "# configurar as variáveis de ambiente\n",
        "import os\n",
        "os.environ[\"JAVA_HOME\"] = \"/usr/lib/jvm/java-8-openjdk-amd64\"\n",
        "os.environ[\"SPARK_HOME\"] = \"/content/spark-2.4.4-bin-hadoop2.7\"\n",
        "\n",
        "# tornar o pyspark \"importável\"\n",
        "import findspark\n",
        "findspark.init('spark-2.4.4-bin-hadoop2.7')"
      ],
      "execution_count": 0,
      "outputs": []
    },
    {
      "cell_type": "code",
      "metadata": {
        "id": "3VhyADgAwl91",
        "colab_type": "code",
        "colab": {}
      },
      "source": [
        "# importação \n",
        "from pyspark.sql import SparkSession"
      ],
      "execution_count": 0,
      "outputs": []
    },
    {
      "cell_type": "code",
      "metadata": {
        "id": "g8O8QRFxGn4q",
        "colab_type": "code",
        "colab": {}
      },
      "source": [
        "spark = SparkSession.builder.master(\"local[*]\").getOrCreate()\n",
        "sc = spark.sparkContext"
      ],
      "execution_count": 0,
      "outputs": []
    },
    {
      "cell_type": "code",
      "metadata": {
        "id": "UWdnsGbrCK6h",
        "colab_type": "code",
        "colab": {}
      },
      "source": [
        "# Importando os dados do arquivo\n",
        "lines = sc.textFile(\"sample_data/greetings.txt\")"
      ],
      "execution_count": 0,
      "outputs": []
    },
    {
      "cell_type": "code",
      "metadata": {
        "id": "NoZn57GXDCMo",
        "colab_type": "code",
        "colab": {
          "base_uri": "https://localhost:8080/",
          "height": 204
        },
        "outputId": "091db461-7efa-4802-8019-c717df8494e6"
      },
      "source": [
        "# Retornando as informações usando a função map\n",
        "lines.map(lambda line: line.split()).collect()"
      ],
      "execution_count": 6,
      "outputs": [
        {
          "output_type": "execute_result",
          "data": {
            "text/plain": [
              "[['Good',\n",
              "  'Morning',\n",
              "  'Good',\n",
              "  'Evening',\n",
              "  'Good',\n",
              "  'Day',\n",
              "  'Happy',\n",
              "  'Birthday',\n",
              "  'Happy',\n",
              "  'New',\n",
              "  'Year']]"
            ]
          },
          "metadata": {
            "tags": []
          },
          "execution_count": 6
        }
      ]
    },
    {
      "cell_type": "code",
      "metadata": {
        "id": "vYE14xxbDCSQ",
        "colab_type": "code",
        "colab": {
          "base_uri": "https://localhost:8080/",
          "height": 204
        },
        "outputId": "3d9f95ee-36eb-4342-a989-5165b2ce98e2"
      },
      "source": [
        "# Retornando as informações usando a função flatMap\n",
        "lines.flatMap(lambda line: line.split()).collect()"
      ],
      "execution_count": 7,
      "outputs": [
        {
          "output_type": "execute_result",
          "data": {
            "text/plain": [
              "['Good',\n",
              " 'Morning',\n",
              " 'Good',\n",
              " 'Evening',\n",
              " 'Good',\n",
              " 'Day',\n",
              " 'Happy',\n",
              " 'Birthday',\n",
              " 'Happy',\n",
              " 'New',\n",
              " 'Year']"
            ]
          },
          "metadata": {
            "tags": []
          },
          "execution_count": 7
        }
      ]
    },
    {
      "cell_type": "code",
      "metadata": {
        "id": "tkdSKfk3DCcx",
        "colab_type": "code",
        "colab": {
          "base_uri": "https://localhost:8080/",
          "height": 153
        },
        "outputId": "a2967267-44f0-4273-e787-b2fbf556adf1"
      },
      "source": [
        "# Criando um contador de palavras do arquivo usando a função flatMap\n",
        "lines = sc.textFile(\"sample_data/greetings.txt\")\n",
        "sorted(lines.flatMap(lambda\n",
        "                     line: line.split()).map(lambda w:\n",
        "                                             (w, 1)).reduceByKey(lambda\n",
        "                                                                 v1, v2: v1+v2).collect())"
      ],
      "execution_count": 8,
      "outputs": [
        {
          "output_type": "execute_result",
          "data": {
            "text/plain": [
              "[('Birthday', 1),\n",
              " ('Day', 1),\n",
              " ('Evening', 1),\n",
              " ('Good', 3),\n",
              " ('Happy', 2),\n",
              " ('Morning', 1),\n",
              " ('New', 1),\n",
              " ('Year', 1)]"
            ]
          },
          "metadata": {
            "tags": []
          },
          "execution_count": 8
        }
      ]
    }
  ]
}